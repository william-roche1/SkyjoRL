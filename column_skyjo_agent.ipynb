{
 "cells": [
  {
   "cell_type": "code",
   "execution_count": 98,
   "metadata": {},
   "outputs": [],
   "source": [
    "# Imports\n",
    "\n",
    "#import gymnasium as gym\n",
    "import importlib\n",
    "import random\n",
    "import matplotlib\n",
    "import matplotlib.pyplot as plt\n",
    "from collections import namedtuple, deque, defaultdict\n",
    "from itertools import count\n",
    "import numpy as np\n",
    "import sys\n",
    "import time\n",
    "import copy\n",
    "import pickle\n",
    "import joblib\n",
    "\n",
    "import torch\n",
    "import torch.nn as nn\n",
    "import torch.optim as optim\n",
    "import torch.nn.functional as F"
   ]
  },
  {
   "cell_type": "code",
   "execution_count": 99,
   "metadata": {},
   "outputs": [],
   "source": [
    "# Parameters\n",
    "\n",
    "COLUMN_LEN = 3\n",
    "\n",
    "# Reduced grid size\n",
    "# All cards are visible\n",
    "# The player can only draws from the pile"
   ]
  },
  {
   "cell_type": "code",
   "execution_count": 100,
   "metadata": {},
   "outputs": [],
   "source": [
    "# Import environment\n",
    "\n",
    "from environments import define_custom_pile\n",
    "from environments import ColumnSkyjo\n"
   ]
  },
  {
   "cell_type": "code",
   "execution_count": 101,
   "metadata": {},
   "outputs": [],
   "source": [
    "# Plots and render functions\n",
    "\n",
    "# Print the board\n",
    "def print_board(state, unhide=False):\n",
    "    deck_values = state[\"deck_values\"]\n",
    "    deck_mask = state[\"deck_mask\"]\n",
    "    drawn_card = state[\"drawn_card\"]\n",
    "    round_id = state[\"round_id\"]\n",
    "    done = state[\"done\"]\n",
    "\n",
    "    print(\"-\" * 50)\n",
    "    print(\"\")\n",
    "    print(f\"Round {round_id}\")\n",
    "    print(\"\")\n",
    "\n",
    "    if done:\n",
    "        print(\"The game has ended!\")\n",
    "        print(f\"Final score: {np.sum(deck_values)}\")\n",
    "        unhide=True\n",
    "    if unhide:\n",
    "        print(f\"-> {drawn_card}\")\n",
    "        print(\"-\" * 6 + \"    \" + \"-\"*6)\n",
    "        for i in range(len(deck_values)):\n",
    "            if deck_mask[i] == 1:\n",
    "                print(f\"| {deck_values[i]:02} |\" + \"    \" + f\"| {deck_values[i]:02} |\")\n",
    "            else:\n",
    "                print(\"| ** |\" + \"    \" + f\"| {deck_values[i]:02} |\" )\n",
    "        print(\"-\" * 6 + \"    \" + \"-\"*6)\n",
    "    else:\n",
    "        print(f\"-> {drawn_card}\")\n",
    "        print(\"-\" * 6)\n",
    "        for i in range(len(deck_values)):\n",
    "            if deck_mask[i] == 1:\n",
    "                print(f\"| {deck_values[i]:02} |\")\n",
    "            else:\n",
    "                print(\"| ** |\")\n",
    "        print(\"-\" * 6)\n",
    "    print(\"\")\n",
    "    print(\"-\" * 50)\n",
    "\n",
    "# Plot the scores histogram\n",
    "def plot_hist_scores(scores):\n",
    "    n_games = len(scores)\n",
    "    mean = np.mean(scores)\n",
    "    std = np.std(scores)\n",
    "    \n",
    "    plt.figure(figsize=(8, 6))\n",
    "    plt.hist(scores, bins=np.arange(-6.5, 37.5, 1), range=(-6, 36), edgecolor='black')\n",
    "\n",
    "    plt.title(f\"Scores histogram (Mean: {mean:.2f}, Std: {std:.2f})\")\n",
    "    plt.xlabel(\"Final sum\")\n",
    "    plt.ylabel(\"Frequency\")\n",
    "\n",
    "    plt.xlim(-6.5,36.5)\n",
    "    plt.ylim(0, 0.35*n_games)\n",
    "\n",
    "    plt.show()"
   ]
  },
  {
   "cell_type": "code",
   "execution_count": 102,
   "metadata": {},
   "outputs": [],
   "source": [
    "# Encode observation\n",
    "\n",
    "def encode_obs(obs, argsort=False):\n",
    "    return tuple(map(int,obs))\n",
    "\n",
    "def encode_obs_int(obs, argsort=False):\n",
    "    [x1, x2, x3, drawn_card] = obs \n",
    "    x1 += 3         # [0,16[\n",
    "    x2 += 3         # [0,16[\n",
    "    x3 += 3         # [0,16[\n",
    "    drawn_card += 2 # [0,15[\n",
    "    return drawn_card + 15*(x1 + 16 * (x2 + 16 * x3))\n",
    "\n",
    "def decode_obs_int(id):\n",
    "    drawn_card = id % 15\n",
    "    res = (id - drawn_card) // 15\n",
    "    x1 = res % 16\n",
    "    res = (res - x1) // 16\n",
    "    x2 = res % 16\n",
    "    res = (res - x2) // 16\n",
    "    x3 = res % 16\n",
    "\n",
    "    drawn_card += -2\n",
    "    x3 += -3\n",
    "    x2 += -3\n",
    "    x1 += -3\n",
    "    \n",
    "    return np.array([x1,x2,x3,drawn_card])"
   ]
  },
  {
   "cell_type": "code",
   "execution_count": 103,
   "metadata": {},
   "outputs": [
    {
     "name": "stdout",
     "output_type": "stream",
     "text": [
      "Size of the observation space: 11715+525=12240\n"
     ]
    }
   ],
   "source": [
    "# Observation space\n",
    "\n",
    "def get_all_observations_encoded():\n",
    "    states = []\n",
    "    trivial_states = []\n",
    "    for i in range(-3,13):\n",
    "        for j in range(i,13):\n",
    "            for k in range(j,13):\n",
    "                is_sum_nonnegative = (i + j + k) > 0\n",
    "                is_there_hidden_card = (i == -3 or j == -3 or k == -3)\n",
    "                is_same_card = (i == j) and (j == k)\n",
    "                for l in range(-2,13):\n",
    "                    if is_there_hidden_card or (is_sum_nonnegative and not is_same_card):\n",
    "                        states.append((i,j,k,l))\n",
    "                    else:\n",
    "                        trivial_states.append((i,j,k,l))\n",
    "\n",
    "    return states, trivial_states\n",
    "\n",
    "ALL_OBSERVATIONS_ENCODED, TRIVIAL_OBSERVATIONS_ENCODED = get_all_observations_encoded()\n",
    "# Size of the observation space:\n",
    "print(f\"Size of the observation space: {len(ALL_OBSERVATIONS_ENCODED)}+{len(TRIVIAL_OBSERVATIONS_ENCODED)}={len(ALL_OBSERVATIONS_ENCODED) + len(TRIVIAL_OBSERVATIONS_ENCODED)}\")"
   ]
  },
  {
   "cell_type": "code",
   "execution_count": 104,
   "metadata": {},
   "outputs": [],
   "source": [
    "# Evaluation functions\n",
    "\n",
    "def play_game(env, Q):\n",
    "    obs = env.reset()\n",
    "    done = False\n",
    "    while not done:\n",
    "        encoded_obs = encode_obs(obs)\n",
    "        action = Q[encoded_obs].argmax()\n",
    "        obs, reward, done = env.step(action)\n",
    "    final_score = env.get_sum_cards()\n",
    "    return final_score\n",
    "\n",
    "def evaluate(env, Q, num_episodes=1000):\n",
    "    scores = np.zeros(num_episodes)\n",
    "    for i in range(num_episodes):\n",
    "        scores[i] = play_game(env, Q)\n",
    "    return scores"
   ]
  },
  {
   "cell_type": "code",
   "execution_count": 105,
   "metadata": {},
   "outputs": [],
   "source": [
    "# Monte-Carlo agent\n",
    "\n",
    "class MCAgent:\n",
    "    def __init__(self, number_actions):\n",
    "        self.number_actions = number_actions\n",
    "        self.policy = None\n",
    "        self.Q = defaultdict(lambda: np.zeros(number_actions))\n",
    "        self.states_visits = defaultdict(lambda: 0)\n",
    "        self.state_action_visits = defaultdict(lambda: np.zeros(number_actions))\n",
    "    \n",
    "    def select_action(self, obs, eps=0):\n",
    "        Q_obs = self.Q[encode_obs(obs)]\n",
    "        if np.random.rand() < eps:\n",
    "            action = np.random.choice(np.arange(len(Q_obs)))\n",
    "        else:\n",
    "            action = np.argmax(Q_obs)\n",
    "\n",
    "        return action\n",
    "\n",
    "    def generate_episode_from_Q(self, env, Q, epsilon):\n",
    "        \"\"\" generates an episode from following the epsilon-greedy policy \"\"\"\n",
    "        episode = []\n",
    "        obs = env.reset()\n",
    "        sum_reward = 0\n",
    "        while True:\n",
    "            encoded_obs = encode_obs(obs, argsort=True)\n",
    "            action = self.select_action(obs, eps=epsilon)\n",
    "            next_obs, reward, done = env.step(action)\n",
    "            sum_reward += reward\n",
    "            episode.append((encoded_obs, action, reward))\n",
    "            obs = next_obs\n",
    "            if done:\n",
    "                break\n",
    "        return episode, sum_reward\n",
    "    \n",
    "    def update_Q(self, episode, gamma):\n",
    "        \"\"\" updates the action-value function estimate using the most recent episode \"\"\"\n",
    "        observations, actions, rewards = zip(*episode)\n",
    "        # prepare for discounting\n",
    "        discounts = np.array([gamma**i for i in range(len(rewards)+1)])\n",
    "        for i, obs in enumerate(observations):\n",
    "            self.states_visits[obs] += 1\n",
    "            self.state_action_visits[obs][actions[i]] += 1\n",
    "            G = sum(rewards[i:] * discounts[:len(rewards)-i])\n",
    "            old_Q = self.Q[obs][actions[i]]\n",
    "            step_size = 1 / self.state_action_visits[obs][actions[i]] # Counts the number of visits\n",
    "            self.Q[obs][actions[i]] = old_Q + step_size * (G - old_Q)\n",
    "\n",
    "    def train_agent(self, env, num_episodes, gamma=1.0, eps_start=1.0, eps_decay=.99999, eps_min=0.05):\n",
    "        total_rewards = []\n",
    "        epsilon = eps_start\n",
    "\n",
    "        for i_episode in range(1, num_episodes+1):\n",
    "            if i_episode % 1000 == 0:\n",
    "                eta = int(53*60 * (env.max_rounds / 10) * ((num_episodes + 1 - i_episode) / 20e6))\n",
    "                mins = eta // 60\n",
    "                secs = eta % 60\n",
    "                print(f\"\\rEpisode {i_episode}/{num_episodes} (eps={epsilon:.02f}). Estimated remaining time: {mins:02}:{secs:02}\", end=\"\")\n",
    "                sys.stdout.flush()\n",
    "\n",
    "            epsilon = max(epsilon*eps_decay, eps_min)\n",
    "\n",
    "            episode, sum_reward = self.generate_episode_from_Q(env, self.Q, epsilon)\n",
    "            total_rewards.append(sum_reward)\n",
    "\n",
    "            self.update_Q(episode, gamma)\n",
    "\n",
    "        # For trivial states, where the sum of the cards is below 0, we assign -inf\n",
    "        for key in TRIVIAL_OBSERVATIONS_ENCODED:\n",
    "            self.Q[key] = np.full((self.number_actions), -np.inf)\n",
    "        \n",
    "        return np.array(total_rewards)"
   ]
  },
  {
   "cell_type": "code",
   "execution_count": 106,
   "metadata": {},
   "outputs": [],
   "source": [
    "# Prepare agent training\n",
    "\n",
    "env = ColumnSkyjo(grid_len=3, max_rounds=10, initial_visible_cards=0)\n",
    "\n",
    "num_episodes = 100000\n",
    "gamma = 1.\n",
    "eps_start = 1.\n",
    "eps_min = 1.\n",
    "eps_decay = np.power(eps_min/eps_start, 1/(1 * num_episodes))\n",
    "\n",
    "agent_mc = MCAgent(number_actions=4)"
   ]
  },
  {
   "cell_type": "code",
   "execution_count": 107,
   "metadata": {},
   "outputs": [
    {
     "name": "stdout",
     "output_type": "stream",
     "text": [
      "Episode 100000/100000 (eps=1.00). Estimated remaining time: 00:00\n",
      "Explored states: 12238/12240 (100.0 %)\n"
     ]
    }
   ],
   "source": [
    "# First step: train with epsilon = 1\n",
    "\n",
    "total_rewards = agent_mc.train_agent(env, num_episodes, gamma=gamma, eps_min=eps_start)\n",
    "percentage_explored_states = len(agent_mc.Q) / (len(ALL_OBSERVATIONS_ENCODED) + len(TRIVIAL_OBSERVATIONS_ENCODED))\n",
    "print(f\"\\nExplored states: {len(agent_mc.Q) }/{len(ALL_OBSERVATIONS_ENCODED) + len(TRIVIAL_OBSERVATIONS_ENCODED)} ({100*percentage_explored_states:.01f} %)\")"
   ]
  },
  {
   "cell_type": "code",
   "execution_count": null,
   "metadata": {},
   "outputs": [
    {
     "name": "stdout",
     "output_type": "stream",
     "text": [
      "Episode 18000/100000 (eps=1.00). Estimated remaining time: 00:13"
     ]
    }
   ],
   "source": [
    "# Second step: decays epsilon\n",
    "\n",
    "total_rewards = agent_mc.train_agent(env, num_episodes, gamma=gamma, eps_decay=eps_decay, eps_min=eps_min)"
   ]
  },
  {
   "cell_type": "code",
   "execution_count": null,
   "metadata": {},
   "outputs": [
    {
     "name": "stdout",
     "output_type": "stream",
     "text": [
      "Episode 10000000/10000000 (eps=0.05). Estimated remaining time: 00:00"
     ]
    }
   ],
   "source": [
    "# Third step: training with epsilon = 0.05\n",
    "\n",
    "total_rewards = agent_mc.train_agent(env, num_episodes, gamma=gamma, eps_start=eps_min, eps_decay=eps_decay, eps_min=eps_min)"
   ]
  },
  {
   "cell_type": "code",
   "execution_count": null,
   "metadata": {},
   "outputs": [],
   "source": [
    "# Unexplored states\n",
    "\n",
    "for key in ALL_OBSERVATIONS_ENCODED:\n",
    "    if key not in agent_mc.Q:\n",
    "        print(key)"
   ]
  },
  {
   "cell_type": "code",
   "execution_count": null,
   "metadata": {},
   "outputs": [
    {
     "name": "stdout",
     "output_type": "stream",
     "text": [
      "There are 38 states that were visisted less than 1000 times.\n",
      "[(-2, -2, 12, 7), (-2, -2, 12, -1), (-2, -2, 6, -2), (-2, -2, 11, 7), (-2, -2, 11, 9), (-2, -2, 12, 1), (-2, -2, 11, 11), (-2, -2, 11, 2), (-2, 12, 12, -2), (-2, -2, 12, 10), (-2, -2, 12, 2), (-2, -2, 12, 5), (-2, -2, 11, 3), (-2, -2, 11, 8), (-2, -2, 12, 8), (-2, -2, 8, -2), (-2, -2, 11, 1), (-2, -2, 12, 12), (-2, -2, 12, 11), (-2, -2, 11, 6), (-2, -2, 10, -2), (-2, -2, 7, -2), (-2, 9, 9, -2), (-2, 11, 11, -2), (-2, -2, 12, 9), (-2, -2, 11, 5), (-2, -2, 11, -2), (-2, -2, 11, -1), (-2, -2, 11, 12), (-2, -2, 12, 4), (-2, 10, 10, -2), (-2, -2, 11, 10), (-2, -2, 12, -2), (-2, -2, 5, -2), (-2, -2, 10, 10), (-2, -2, 12, 6), (-2, -2, 11, 4), (-2, -2, 9, -2)]\n"
     ]
    }
   ],
   "source": [
    "# Underexplored states\n",
    "\n",
    "threshold = 500\n",
    "keys_under_explored = [k for k, v in agent_mc.states_visits.items() if v < threshold]\n",
    "print(f\"There are {len(keys_under_explored)} states that were visisted less than {threshold} times.\")\n",
    "print(keys_under_explored)"
   ]
  },
  {
   "cell_type": "code",
   "execution_count": null,
   "metadata": {},
   "outputs": [
    {
     "name": "stdout",
     "output_type": "stream",
     "text": [
      "Q-values dict loaded: 12240 entries\n"
     ]
    }
   ],
   "source": [
    "# Save and load learned Q-values\n",
    "\n",
    "# Save learned Q-values\n",
    "#joblib.dump(dict(agent_mc.Q), \"q_values_column_max10rounds.joblib\")\n",
    "\n",
    "# Load saved Q-values\n",
    "#Q = joblib.load(\"q_values_column_max10rounds.joblib\")\n",
    "Q = joblib.load(\"q_values_column_max5rounds.joblib\")\n",
    "print(f\"Q-values dict loaded: {len(Q)} entries\")\n",
    "\n",
    "#Q = agent_mc.Q"
   ]
  },
  {
   "cell_type": "code",
   "execution_count": null,
   "metadata": {},
   "outputs": [
    {
     "data": {
      "image/png": "[encoded data removed]",
      "text/plain": [
       "<Figure size 800x600 with 1 Axes>"
      ]
     },
     "metadata": {},
     "output_type": "display_data"
    }
   ],
   "source": [
    "# Plot the histogram\n",
    "\n",
    "env = ColumnSkyjo(grid_len=3, max_rounds=20)\n",
    "scores = evaluate(env, Q, num_episodes=100000)\n",
    "plot_hist_scores(scores)"
   ]
  },
  {
   "cell_type": "code",
   "execution_count": null,
   "metadata": {},
   "outputs": [
    {
     "name": "stdout",
     "output_type": "stream",
     "text": [
      "Custom pile:  [12 11 12  0 12 12  4  3  7  0]\n",
      "--------------------------------------------------\n",
      "\n",
      "Round 0\n",
      "\n",
      "-> 0\n",
      "------\n",
      "| 12 |\n",
      "| 11 |\n",
      "| 12 |\n",
      "------\n",
      "\n",
      "--------------------------------------------------\n",
      "q-value [-33.16299559 -23.08583691 -21.66666667 -22.4       ]\n",
      "The player use the card and replace the 2-th lowest card\n",
      "--------------------------------------------------\n",
      "\n",
      "Round 1\n",
      "\n",
      "-> 12\n",
      "------\n",
      "| 00 |\n",
      "| 11 |\n",
      "| 12 |\n",
      "------\n",
      "\n",
      "--------------------------------------------------\n",
      "q-value [-21.25102319 -32.98249453 -22.73493976 -22.27108434]\n",
      "The player discards the card\n",
      "--------------------------------------------------\n",
      "\n",
      "Round 2\n",
      "\n",
      "-> 12\n",
      "------\n",
      "| 00 |\n",
      "| 11 |\n",
      "| 12 |\n",
      "------\n",
      "\n",
      "--------------------------------------------------\n",
      "q-value [-21.25102319 -32.98249453 -22.73493976 -22.27108434]\n",
      "The player discards the card\n",
      "--------------------------------------------------\n",
      "\n",
      "Round 3\n",
      "\n",
      "-> 4\n",
      "------\n",
      "| 00 |\n",
      "| 11 |\n",
      "| 12 |\n",
      "------\n",
      "\n",
      "--------------------------------------------------\n",
      "q-value [-22.25183824 -25.61308411 -15.86111111 -13.95863747]\n",
      "The player use the card and replace the 3-th lowest card\n"
     ]
    },
    {
     "ename": "KeyboardInterrupt",
     "evalue": "",
     "output_type": "error",
     "traceback": [
      "\u001b[31m---------------------------------------------------------------------------\u001b[39m",
      "\u001b[31mKeyboardInterrupt\u001b[39m                         Traceback (most recent call last)",
      "\u001b[36mCell\u001b[39m\u001b[36m \u001b[39m\u001b[32mIn[86]\u001b[39m\u001b[32m, line 23\u001b[39m\n\u001b[32m     21\u001b[39m         \u001b[38;5;28mprint\u001b[39m(\u001b[33mf\u001b[39m\u001b[33m\"\u001b[39m\u001b[33mThe player use the card and replace the \u001b[39m\u001b[38;5;132;01m{\u001b[39;00maction\u001b[38;5;132;01m}\u001b[39;00m\u001b[33m-th lowest card\u001b[39m\u001b[33m\"\u001b[39m)\n\u001b[32m     22\u001b[39m     next_obs, reward, done = env.step(action)\n\u001b[32m---> \u001b[39m\u001b[32m23\u001b[39m     \u001b[43mtime\u001b[49m\u001b[43m.\u001b[49m\u001b[43msleep\u001b[49m\u001b[43m(\u001b[49m\u001b[32;43m2\u001b[39;49m\u001b[43m)\u001b[49m\n\u001b[32m     24\u001b[39m     obs = next_obs\n\u001b[32m     26\u001b[39m print_board(env.get_state(), unhide=\u001b[38;5;28;01mFalse\u001b[39;00m)\n",
      "\u001b[31mKeyboardInterrupt\u001b[39m: "
     ]
    }
   ],
   "source": [
    "# Test the agent\n",
    "\n",
    "x = 12\n",
    "first_cards = [x,x-1,x,0,x]\n",
    "custom_pile = define_custom_pile(first_cards)\n",
    "\n",
    "env = ColumnSkyjo(grid_len=3, max_rounds=10)\n",
    "obs = env.reset(custom_pile=custom_pile, initial_visible_cards=3)\n",
    "#obs = env.reset(initial_visible_cards=3)\n",
    "#obs = env.reset()\n",
    "\n",
    "done = False\n",
    "while not done:\n",
    "    print_board(env.get_state(), unhide=False)\n",
    "    encoded_obs = encode_obs(obs)\n",
    "    print(\"q-value\", Q[encoded_obs])\n",
    "    action = Q[encoded_obs].argmax()\n",
    "    if action == 0:\n",
    "        print(f\"The player discards the card\")\n",
    "    else:\n",
    "        print(f\"The player use the card and replace the {action}-th lowest card\")\n",
    "    next_obs, reward, done = env.step(action)\n",
    "    time.sleep(2)\n",
    "    obs = next_obs\n",
    "\n",
    "print_board(env.get_state(), unhide=False)"
   ]
  },
  {
   "cell_type": "code",
   "execution_count": null,
   "metadata": {},
   "outputs": [
    {
     "name": "stdout",
     "output_type": "stream",
     "text": [
      "-2, 3, [-13.72101723 -10.87299171 -10.86919014  -3.59565601]\n",
      "-1, 3, [-13.70344537 -11.35301988 -11.3379537   -4.39861211]\n",
      "00, 2, [-13.64092886 -11.80305769  -5.15610076 -11.81473968]\n",
      "01, 1, [-13.60031967  -5.87638161 -12.22466209 -12.24399529]\n",
      "02, 2, [-13.61123763 -12.67974764  -6.58023988 -12.66531287]\n",
      "03, 1, [-13.58336716  -7.24769824 -13.06564326 -13.06060697]\n",
      "04, 3, [-13.56706073 -13.44055405 -13.4297716   -7.80220534]\n",
      "05, 0, [ -7.45410881 -13.76711049 -13.77111882 -13.7662275 ]\n",
      "06, 0, [ -7.43047611 -14.02722715 -14.01574179 -14.02401606]\n",
      "07, 0, [ -7.41828533 -14.30792358 -14.28765142 -14.32878599]\n",
      "08, 0, [ -7.40833674 -14.5611539  -14.5614309  -14.55334234]\n",
      "09, 0, [ -7.41321977 -14.82096316 -14.81419859 -14.8193034 ]\n",
      "10, 0, [ -7.41073785 -15.10144805 -15.08422559 -15.0965082 ]\n",
      "11, 0, [ -7.3888938  -15.30278416 -15.31613109 -15.28344072]\n",
      "12, 0, [ -7.39477747 -15.56417623 -15.55761376 -15.57135639]\n"
     ]
    }
   ],
   "source": [
    "# Show the q-values for all initial states, where all cards are hidden\n",
    "\n",
    "for i in range(-2,13):\n",
    "    obs = [-3,-3,-3,i]\n",
    "    key = encode_obs(obs)\n",
    "    print(f\"{i:02}, {Q[key].argmax()}, {Q[key]}\")"
   ]
  }
 ],
 "metadata": {
  "kernelspec": {
   "display_name": "reinforcementlearning_env",
   "language": "python",
   "name": "python3"
  },
  "language_info": {
   "codemirror_mode": {
    "name": "ipython",
    "version": 3
   },
   "file_extension": ".py",
   "mimetype": "text/x-python",
   "name": "python",
   "nbconvert_exporter": "python",
   "pygments_lexer": "ipython3",
   "version": "3.12.2"
  }
 },
 "nbformat": 4,
 "nbformat_minor": 2
}
